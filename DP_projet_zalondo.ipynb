{
  "nbformat": 4,
  "nbformat_minor": 0,
  "metadata": {
    "colab": {
      "provenance": []
    },
    "kernelspec": {
      "name": "python3",
      "display_name": "Python 3"
    },
    "language_info": {
      "name": "python"
    }
  },
  "cells": [
    {
      "cell_type": "code",
      "execution_count": 1,
      "metadata": {
        "id": "pm3BrN0mzhtU"
      },
      "outputs": [],
      "source": [
        "import pandas as pd\n",
        "import seaborn as sns\n",
        "import numpy as np\n",
        "import matplotlib.pyplot as plt\n",
        "import tensorflow as tf"
      ]
    },
    {
      "cell_type": "code",
      "source": [],
      "metadata": {
        "id": "-UuQH9U00Awa"
      },
      "execution_count": null,
      "outputs": []
    },
    {
      "cell_type": "markdown",
      "source": [
        "récapitulatif\n",
        "\n",
        "W: weights: le poids qui multiplie l'entree\n",
        "Loss: fction perte ou l'erreur\n",
        "en fction de l'erreur on modifie le w pour reduire l'erreur.\n",
        "On chooisit le pas: vitesse d'apprentissage(le learning rate).\n",
        "Terme a garder quand on parle du deep.\n",
        "\n",
        "a chaque Epoch ou entrainement.\n",
        "\n",
        "\n",
        "\n",
        "autre point : la dérivee c'est le taux de variation.\n",
        "\n",
        "Entrainer un modele de deep learning c'est minimiser l'erreur"
      ],
      "metadata": {
        "id": "tLwLjb3-6NVj"
      }
    },
    {
      "cell_type": "code",
      "source": [
        "data = tf.keras.datasets.fashion_mnist"
      ],
      "metadata": {
        "id": "ySMS3T4u6Ooh"
      },
      "execution_count": 2,
      "outputs": []
    },
    {
      "cell_type": "code",
      "source": [
        "data = tf.keras.datasets.fashion_mnist\n",
        "(training_images, training_labels), (test_images, test_labels) = data.load_data()"
      ],
      "metadata": {
        "id": "Qdu2-Q3pRCJ8",
        "colab": {
          "base_uri": "https://localhost:8080/"
        },
        "outputId": "75a60c5b-2441-49c8-f903-6a6ffb9f54c3"
      },
      "execution_count": 3,
      "outputs": [
        {
          "output_type": "stream",
          "name": "stdout",
          "text": [
            "Downloading data from https://storage.googleapis.com/tensorflow/tf-keras-datasets/train-labels-idx1-ubyte.gz\n",
            "29515/29515 [==============================] - 0s 0us/step\n",
            "Downloading data from https://storage.googleapis.com/tensorflow/tf-keras-datasets/train-images-idx3-ubyte.gz\n",
            "26421880/26421880 [==============================] - 0s 0us/step\n",
            "Downloading data from https://storage.googleapis.com/tensorflow/tf-keras-datasets/t10k-labels-idx1-ubyte.gz\n",
            "5148/5148 [==============================] - 0s 0us/step\n",
            "Downloading data from https://storage.googleapis.com/tensorflow/tf-keras-datasets/t10k-images-idx3-ubyte.gz\n",
            "4422102/4422102 [==============================] - 0s 0us/step\n"
          ]
        }
      ]
    },
    {
      "cell_type": "code",
      "source": [
        "training_images.shape"
      ],
      "metadata": {
        "colab": {
          "base_uri": "https://localhost:8080/"
        },
        "id": "uRpz2lDpUQBj",
        "outputId": "cbcb94c4-c350-45ba-f6ab-bd225f9276bd"
      },
      "execution_count": 4,
      "outputs": [
        {
          "output_type": "execute_result",
          "data": {
            "text/plain": [
              "(60000, 28, 28)"
            ]
          },
          "metadata": {},
          "execution_count": 4
        }
      ]
    },
    {
      "cell_type": "code",
      "source": [
        "test_images.shape"
      ],
      "metadata": {
        "colab": {
          "base_uri": "https://localhost:8080/"
        },
        "id": "lSnDi21ORYF3",
        "outputId": "7b8dc0e2-fb71-4083-b884-943b5f70caf4"
      },
      "execution_count": 5,
      "outputs": [
        {
          "output_type": "execute_result",
          "data": {
            "text/plain": [
              "(10000, 28, 28)"
            ]
          },
          "metadata": {},
          "execution_count": 5
        }
      ]
    },
    {
      "cell_type": "code",
      "source": [
        "training_labels.shape"
      ],
      "metadata": {
        "colab": {
          "base_uri": "https://localhost:8080/"
        },
        "id": "At-MMSAyUiqy",
        "outputId": "e888aa38-7e71-40ef-8081-e966a53b3d8b"
      },
      "execution_count": 6,
      "outputs": [
        {
          "output_type": "execute_result",
          "data": {
            "text/plain": [
              "(60000,)"
            ]
          },
          "metadata": {},
          "execution_count": 6
        }
      ]
    },
    {
      "cell_type": "markdown",
      "source": [
        "En deep learning, de façon général on manipule des tenseurs.\n",
        "\n",
        "pour verifier ndim\n",
        "\n"
      ],
      "metadata": {
        "id": "vD8hU2OWU-X5"
      }
    },
    {
      "cell_type": "code",
      "source": [
        "test_images.ndim"
      ],
      "metadata": {
        "colab": {
          "base_uri": "https://localhost:8080/"
        },
        "id": "im2Qka9vVeK4",
        "outputId": "26a34e71-4c5a-4cb2-cf52-7fda612d0bb0"
      },
      "execution_count": 7,
      "outputs": [
        {
          "output_type": "execute_result",
          "data": {
            "text/plain": [
              "3"
            ]
          },
          "metadata": {},
          "execution_count": 7
        }
      ]
    },
    {
      "cell_type": "code",
      "source": [
        "labels = [\"t-shirt/top\", \"trouser\", \"pullover\", \"dress\", \"coat\", \"sandals\", \"shirt\",\n",
        "         \"sneaker\", \"bag\", \"ankle boot\"]"
      ],
      "metadata": {
        "id": "3sHPzu23VvGY"
      },
      "execution_count": 8,
      "outputs": []
    },
    {
      "cell_type": "code",
      "source": [
        "labels[0]"
      ],
      "metadata": {
        "colab": {
          "base_uri": "https://localhost:8080/",
          "height": 35
        },
        "id": "NI2dtG_CV_b0",
        "outputId": "6f2c21c0-b1ae-4f45-b765-e1e42234709d"
      },
      "execution_count": 9,
      "outputs": [
        {
          "output_type": "execute_result",
          "data": {
            "text/plain": [
              "'t-shirt/top'"
            ],
            "application/vnd.google.colaboratory.intrinsic+json": {
              "type": "string"
            }
          },
          "metadata": {},
          "execution_count": 9
        }
      ]
    },
    {
      "cell_type": "code",
      "source": [
        "plt.imshow(training_images[67])\n",
        "plt.title(labels[training_labels[67]])\n",
        "plt.show()"
      ],
      "metadata": {
        "colab": {
          "base_uri": "https://localhost:8080/",
          "height": 452
        },
        "id": "3Zzx3IrgWHoA",
        "outputId": "5fb4d411-4cdc-4f83-b33b-bb45cb0b78a5"
      },
      "execution_count": 10,
      "outputs": [
        {
          "output_type": "display_data",
          "data": {
            "text/plain": [
              "<Figure size 640x480 with 1 Axes>"
            ],
            "image/png": "[encoded data removed]"
          },
          "metadata": {}
        }
      ]
    },
    {
      "cell_type": "code",
      "source": [
        "plt.imshow(training_images[67])\n",
        "plt.title(labels[training_labels[67]])\n",
        "plt.show()"
      ],
      "metadata": {
        "id": "Nx8F6i1gpRPT",
        "colab": {
          "base_uri": "https://localhost:8080/",
          "height": 452
        },
        "outputId": "a8b19a75-da29-488d-b602-ba1959a125b8"
      },
      "execution_count": 11,
      "outputs": [
        {
          "output_type": "display_data",
          "data": {
            "text/plain": [
              "<Figure size 640x480 with 1 Axes>"
            ],
            "image/png": "[encoded data removed]"
          },
          "metadata": {}
        }
      ]
    },
    {
      "cell_type": "markdown",
      "source": [
        "Comment entrainer les reseaux de neuronne\n",
        "\n",
        "#Flatten (applatir image)\n",
        "\n",
        "On considere les pixels comme caracterise individuelles"
      ],
      "metadata": {
        "id": "ls_UZDbipfu5"
      }
    },
    {
      "cell_type": "code",
      "source": [
        "a_training_images = training_images.reshape((60000, 28*28))\n",
        "a_test_images = test_images.reshape((-1, 28*28))\n",
        "#si on met -1 python sait qu'il doit chercher le premier"
      ],
      "metadata": {
        "id": "pkdbGS9znvur"
      },
      "execution_count": 12,
      "outputs": []
    },
    {
      "cell_type": "code",
      "source": [
        "a_training_images.shape, a_test_images.shape\n",
        "#on a desormais un reseau de neuronne\n",
        "#on applatie les image on est passé, d'un shape de (60000,28,28) à un shape (60000,784) pareil pour les donnees de texte"
      ],
      "metadata": {
        "colab": {
          "base_uri": "https://localhost:8080/"
        },
        "id": "GN3mEoASrIJl",
        "outputId": "f019d0d6-4c3c-486c-8756-7d5a493c13e9"
      },
      "execution_count": 14,
      "outputs": [
        {
          "output_type": "execute_result",
          "data": {
            "text/plain": [
              "((60000, 784), (10000, 784))"
            ]
          },
          "metadata": {},
          "execution_count": 14
        }
      ]
    },
    {
      "cell_type": "markdown",
      "source": [
        "Transformation de label: one hot-encoding(une colonne a 1 et les autrres ont 0).\n",
        "si une image est de 0 : [1,0,0].\n",
        "\n",
        "On va avoir trois neuronnes qui feront la prediction sur une classe."
      ],
      "metadata": {
        "id": "0t4sLUaarmEM"
      }
    },
    {
      "cell_type": "code",
      "source": [
        "#petit exemple sur le one hot encoding\n",
        "#c'est ce qu'on va appliquer au label\n",
        "#si le label c'est 9 et qu on a trois class [0,1,2]\n",
        "#si pour image A le label est 1 on aura [0,1,0]\n",
        "#si pour image B est de classe 2 on aura [0,0,1]\n",
        "x = np.array([1,2,9,1,0])\n",
        "tf.keras.utils.to_categorical(x)"
      ],
      "metadata": {
        "colab": {
          "base_uri": "https://localhost:8080/"
        },
        "id": "1ftZ114cr01h",
        "outputId": "e3bd9954-4f5d-481b-d9d2-45e9b5afcf05"
      },
      "execution_count": 16,
      "outputs": [
        {
          "output_type": "execute_result",
          "data": {
            "text/plain": [
              "array([[0., 1., 0., 0., 0., 0., 0., 0., 0., 0.],\n",
              "       [0., 0., 1., 0., 0., 0., 0., 0., 0., 0.],\n",
              "       [0., 0., 0., 0., 0., 0., 0., 0., 0., 1.],\n",
              "       [0., 1., 0., 0., 0., 0., 0., 0., 0., 0.],\n",
              "       [1., 0., 0., 0., 0., 0., 0., 0., 0., 0.]], dtype=float32)"
            ]
          },
          "metadata": {},
          "execution_count": 16
        }
      ]
    },
    {
      "cell_type": "code",
      "source": [
        "training_labels.shape"
      ],
      "metadata": {
        "colab": {
          "base_uri": "https://localhost:8080/"
        },
        "id": "gmfbkTIJxhzc",
        "outputId": "0eab0c0c-991c-4ad5-fae3-92830a31fd41"
      },
      "execution_count": 17,
      "outputs": [
        {
          "output_type": "execute_result",
          "data": {
            "text/plain": [
              "(60000,)"
            ]
          },
          "metadata": {},
          "execution_count": 17
        }
      ]
    },
    {
      "cell_type": "code",
      "source": [
        "training_labels = tf.keras.utils.to_categorical(training_labels)\n",
        "test_labels = tf.keras.utils.to_categorical(test_labels)"
      ],
      "metadata": {
        "id": "fSA9o7l5xt7m"
      },
      "execution_count": 18,
      "outputs": []
    },
    {
      "cell_type": "code",
      "source": [
        "#chaque personne a pour label un vecteur de 10,un seul 1 à l'interieur qui a sa position\n",
        "training_labels.shape"
      ],
      "metadata": {
        "colab": {
          "base_uri": "https://localhost:8080/"
        },
        "id": "7VHbhTxLxz5n",
        "outputId": "b04a9d16-688c-4dda-8a57-a7abfadffa13"
      },
      "execution_count": 20,
      "outputs": [
        {
          "output_type": "execute_result",
          "data": {
            "text/plain": [
              "(60000, 10)"
            ]
          },
          "metadata": {},
          "execution_count": 20
        }
      ]
    },
    {
      "cell_type": "code",
      "source": [
        "training_labels[67]\n",
        "#le model aura predit le neuronne qui est chargé de prédire le tee-shirt."
      ],
      "metadata": {
        "colab": {
          "base_uri": "https://localhost:8080/"
        },
        "id": "54w2n4MkyUuZ",
        "outputId": "dcd84d71-92bc-45f9-aa60-4344507d9547"
      },
      "execution_count": 21,
      "outputs": [
        {
          "output_type": "execute_result",
          "data": {
            "text/plain": [
              "array([1., 0., 0., 0., 0., 0., 0., 0., 0., 0.], dtype=float32)"
            ]
          },
          "metadata": {},
          "execution_count": 21
        }
      ]
    },
    {
      "cell_type": "markdown",
      "source": [
        "#fction softmax\n",
        "La fonction mathématique softmax peut être utilisée en machine learning pour convertir un score en probabilité dans un contexte de classification multi-classe.\n",
        "\n",
        "Ainsi, si dans un contexte de classification d’objets nous obtenons :\n",
        "\n",
        "Un score de 1200 pour la probabilité que l’objet soit une pomme.\n",
        "Un score de 600 pour la probabilité que l’objet soit une orange.\n",
        "Un score de 200 pour la probabilité que l’objet soit une poire.\n",
        "Un score nul pour les autres probabilités.\n",
        "L’application de la fonction softmax permettra de générer un score de probabilité normalisé, dont la somme totale des probabilités sera égale à 100%, soit 1.\n",
        "\n",
        "Les résultats de la fonction softmax nous donneront :\n",
        "\n",
        "pomme: 0.6\n",
        "orange : 0.3\n",
        "poire : 0.1\n",
        "\n",
        "\n",
        "La fonction d’activation softmax est un élément important dans la conception d’un réseau de neurones."
      ],
      "metadata": {
        "id": "NCYpiSVIk_DT"
      }
    },
    {
      "cell_type": "code",
      "source": [
        "#petit exemple\n",
        "output = [6,3,2]\n",
        "6/(6+3+2) + 3/(6+3+2) + 2/(6+3+2)"
      ],
      "metadata": {
        "colab": {
          "base_uri": "https://localhost:8080/"
        },
        "id": "Tz9eeH9QnYuk",
        "outputId": "cea4157e-4062-4fdd-9b9a-94567829816b"
      },
      "execution_count": 22,
      "outputs": [
        {
          "output_type": "execute_result",
          "data": {
            "text/plain": [
              "1.0"
            ]
          },
          "metadata": {},
          "execution_count": 22
        }
      ]
    },
    {
      "cell_type": "code",
      "source": [
        "6/(6+3+2),3/(6+3+2),2/(6+3+2)\n",
        "#on a 0.54 pour 6, 0.27 pour 3 et on 0.18 pour 2\n",
        "#cette façon de faire n'offre pas de gradient intéressant."
      ],
      "metadata": {
        "colab": {
          "base_uri": "https://localhost:8080/"
        },
        "id": "Jr9sTe7Zpkep",
        "outputId": "e4bb8e47-880d-4cf3-8e8c-5d26046ea3f0"
      },
      "execution_count": 23,
      "outputs": [
        {
          "output_type": "execute_result",
          "data": {
            "text/plain": [
              "(0.5454545454545454, 0.2727272727272727, 0.18181818181818182)"
            ]
          },
          "metadata": {},
          "execution_count": 23
        }
      ]
    },
    {
      "cell_type": "code",
      "source": [
        "def sofmax(vect):\n",
        "  r= np.exp(np.array(vect))\n",
        "  return r/sum(r)"
      ],
      "metadata": {
        "id": "Gi2bNihkpko4"
      },
      "execution_count": 24,
      "outputs": []
    },
    {
      "cell_type": "code",
      "source": [
        "sofmax(output)\n",
        "#il a maximisé l'element le plus important et a minimisé les autres.\n",
        "#c'est ce meme principe qui sera utilisé dans le réseau de neuronne"
      ],
      "metadata": {
        "colab": {
          "base_uri": "https://localhost:8080/"
        },
        "id": "Ae592VwLpkw-",
        "outputId": "0d142408-9287-4c9c-a198-59c58dd2b8c7"
      },
      "execution_count": 25,
      "outputs": [
        {
          "output_type": "execute_result",
          "data": {
            "text/plain": [
              "array([0.93623955, 0.04661262, 0.01714783])"
            ]
          },
          "metadata": {},
          "execution_count": 25
        }
      ]
    },
    {
      "cell_type": "markdown",
      "source": [
        "#1er modele de classification"
      ],
      "metadata": {
        "id": "FxbyltGVuI7j"
      }
    },
    {
      "cell_type": "code",
      "source": [
        "from tensorflow.keras.models import Sequential\n",
        "from tensorflow.keras.layers import Dense\n",
        "from tensorflow.keras.optimizers import SGD"
      ],
      "metadata": {
        "id": "zGL14x80uO8q"
      },
      "execution_count": 26,
      "outputs": []
    },
    {
      "cell_type": "code",
      "source": [
        "a_training_images.min(), a_training_images.max()"
      ],
      "metadata": {
        "colab": {
          "base_uri": "https://localhost:8080/"
        },
        "id": "THH3g5n9wOX6",
        "outputId": "0216af67-dc91-45fa-f40c-65bf717dbc0a"
      },
      "execution_count": 27,
      "outputs": [
        {
          "output_type": "execute_result",
          "data": {
            "text/plain": [
              "(0, 255)"
            ]
          },
          "metadata": {},
          "execution_count": 27
        }
      ]
    },
    {
      "cell_type": "code",
      "source": [
        "#normalisation des données\n",
        "a_training_images = a_training_images /255.0\n",
        "a_test_images = a_test_images / 255.0"
      ],
      "metadata": {
        "id": "ytT2TaPewUL2"
      },
      "execution_count": 28,
      "outputs": []
    },
    {
      "cell_type": "code",
      "source": [
        "a_training_images.min(), a_training_images.max()"
      ],
      "metadata": {
        "colab": {
          "base_uri": "https://localhost:8080/"
        },
        "id": "HzBoCvtNwjx-",
        "outputId": "a99d3aa8-1206-4042-864f-34161bb5a3db"
      },
      "execution_count": 29,
      "outputs": [
        {
          "output_type": "execute_result",
          "data": {
            "text/plain": [
              "(0.0, 1.0)"
            ]
          },
          "metadata": {},
          "execution_count": 29
        }
      ]
    },
    {
      "cell_type": "code",
      "source": [
        "#accuracy permet de savoir le taux de bonne de classification\n",
        "model = Sequential([ Dense(units=784, activation=\"sigmoid\"),\n",
        "                   Dense(units=10, activation=\"softmax\"),\n",
        "                ])\n",
        "model.compile(loss=\"mse\", optimizer=SGD(learning_rate=0.01), metrics=[\"accuracy\"])\n",
        "h = model.fit(a_training_images, training_labels, epochs=5, validation_data=(a_test_images, test_labels))\n"
      ],
      "metadata": {
        "colab": {
          "base_uri": "https://localhost:8080/"
        },
        "id": "_QSbTALyvC5_",
        "outputId": "e99e8317-af64-4769-b2b1-97dc22cf81cb"
      },
      "execution_count": 39,
      "outputs": [
        {
          "output_type": "stream",
          "name": "stdout",
          "text": [
            "Epoch 1/5\n",
            "1875/1875 [==============================] - 7s 4ms/step - loss: 0.0888 - accuracy: 0.2620 - val_loss: 0.0866 - val_accuracy: 0.3734\n",
            "Epoch 2/5\n",
            "1875/1875 [==============================] - 8s 4ms/step - loss: 0.0847 - accuracy: 0.4100 - val_loss: 0.0826 - val_accuracy: 0.4701\n",
            "Epoch 3/5\n",
            "1875/1875 [==============================] - 8s 4ms/step - loss: 0.0803 - accuracy: 0.4929 - val_loss: 0.0779 - val_accuracy: 0.5066\n",
            "Epoch 4/5\n",
            "1875/1875 [==============================] - 7s 4ms/step - loss: 0.0753 - accuracy: 0.5220 - val_loss: 0.0728 - val_accuracy: 0.5409\n",
            "Epoch 5/5\n",
            "1875/1875 [==============================] - 8s 4ms/step - loss: 0.0702 - accuracy: 0.5479 - val_loss: 0.0679 - val_accuracy: 0.5666\n"
          ]
        }
      ]
    },
    {
      "cell_type": "code",
      "source": [
        "#loss: 0.0702 - accuracy: 0.4923 - val_loss: 0.0682 - val_accuracy: 0.5216\n",
        "#on a 49% de de reussite sur les donnees d'entrainement, sur les donnees de test on a 52% de reussite.\n",
        "#on peut l'ameliorer en changeant de loss (la maniere de calculer l'erreur)."
      ],
      "metadata": {
        "id": "7kEQyq7MyB3O"
      },
      "execution_count": null,
      "outputs": []
    },
    {
      "cell_type": "markdown",
      "source": [
        "#Cross Entropy ou Log loss\n",
        "\n",
        "c'est une métrique utilisée pour mesurer la performance d'un modèle de classification en apprentissage automatique. La perte (ou l'erreur) est mesurée par un nombre compris entre 0 et 1, 0 correspondant à un modèle parfait."
      ],
      "metadata": {
        "id": "ZJ6cstO94laa"
      }
    },
    {
      "cell_type": "code",
      "source": [
        "#entrainement avce Cross entropy\n",
        "model = Sequential([ Dense(units=784, activation=\"sigmoid\"),\n",
        "                   Dense(units=10, activation=\"softmax\"),\n",
        "                ])\n",
        "model.compile(loss=\"categorical_crossentropy\", optimizer=SGD(learning_rate=0.01), metrics=[\"accuracy\"])\n",
        "h = model.fit(a_training_images, training_labels, epochs=5, validation_data=(a_test_images, test_labels))"
      ],
      "metadata": {
        "colab": {
          "base_uri": "https://localhost:8080/"
        },
        "id": "dHYRlQgK7je2",
        "outputId": "09ee58be-564a-4c20-f382-828f24189b8a"
      },
      "execution_count": 40,
      "outputs": [
        {
          "output_type": "stream",
          "name": "stdout",
          "text": [
            "Epoch 1/5\n",
            "1875/1875 [==============================] - 7s 4ms/step - loss: 1.1208 - accuracy: 0.6745 - val_loss: 0.7879 - val_accuracy: 0.7397\n",
            "Epoch 2/5\n",
            "1875/1875 [==============================] - 8s 4ms/step - loss: 0.7005 - accuracy: 0.7630 - val_loss: 0.6643 - val_accuracy: 0.7635\n",
            "Epoch 3/5\n",
            "1875/1875 [==============================] - 8s 4ms/step - loss: 0.6166 - accuracy: 0.7851 - val_loss: 0.6079 - val_accuracy: 0.7857\n",
            "Epoch 4/5\n",
            "1875/1875 [==============================] - 7s 4ms/step - loss: 0.5724 - accuracy: 0.8000 - val_loss: 0.5731 - val_accuracy: 0.7982\n",
            "Epoch 5/5\n",
            "1875/1875 [==============================] - 7s 4ms/step - loss: 0.5433 - accuracy: 0.8104 - val_loss: 0.5492 - val_accuracy: 0.8047\n"
          ]
        }
      ]
    },
    {
      "cell_type": "code",
      "source": [
        "#loss: 0.5440 - accuracy: 0.8108 - val_loss: 0.5519 - val_accuracy: 0.8048\n",
        "#on a 81% de de reussite sur les donnees d'entrainement, sur les donnees de test on a 80% de reussite."
      ],
      "metadata": {
        "id": "7h5JAUaOgg5W"
      },
      "execution_count": null,
      "outputs": []
    },
    {
      "cell_type": "markdown",
      "source": [
        "#fction d'activation relu (Rectified linear Unit)\n",
        "\n",
        "elle permet tout simplement de remplacer les résultats négatifs par zéro"
      ],
      "metadata": {
        "id": "qlaycUq5Vc9L"
      }
    },
    {
      "cell_type": "code",
      "source": [
        "#entrainement avec Relu\n",
        "model = Sequential([ Dense(units=784, activation=\"relu\"),\n",
        "                   Dense(units=10, activation=\"softmax\"),\n",
        "                ])\n",
        "model.compile(loss=\"categorical_crossentropy\", optimizer=SGD(learning_rate=0.01), metrics=[\"accuracy\"])\n",
        "h = model.fit(a_training_images, training_labels, epochs=5, validation_data=(a_test_images, test_labels))"
      ],
      "metadata": {
        "colab": {
          "base_uri": "https://localhost:8080/"
        },
        "id": "q4U2Angalgeq",
        "outputId": "8e6e4502-f2ef-4573-86c4-ed8084bb3300"
      },
      "execution_count": 41,
      "outputs": [
        {
          "output_type": "stream",
          "name": "stdout",
          "text": [
            "Epoch 1/5\n",
            "1875/1875 [==============================] - 8s 4ms/step - loss: 0.6983 - accuracy: 0.7765 - val_loss: 0.5651 - val_accuracy: 0.8016\n",
            "Epoch 2/5\n",
            "1875/1875 [==============================] - 7s 4ms/step - loss: 0.4960 - accuracy: 0.8320 - val_loss: 0.5042 - val_accuracy: 0.8250\n",
            "Epoch 3/5\n",
            "1875/1875 [==============================] - 8s 4ms/step - loss: 0.4547 - accuracy: 0.8443 - val_loss: 0.4638 - val_accuracy: 0.8386\n",
            "Epoch 4/5\n",
            "1875/1875 [==============================] - 7s 4ms/step - loss: 0.4298 - accuracy: 0.8521 - val_loss: 0.4525 - val_accuracy: 0.8429\n",
            "Epoch 5/5\n",
            "1875/1875 [==============================] - 7s 4ms/step - loss: 0.4113 - accuracy: 0.8580 - val_loss: 0.4373 - val_accuracy: 0.8469\n"
          ]
        }
      ]
    },
    {
      "cell_type": "code",
      "source": [
        "#loss: 0.4086 - accuracy: 0.8587 - val_loss: 0.4457 - val_accuracy: 0.8423\n",
        "#on a 85% de de reussite sur les donnees d'entrainement, sur les donnees de test on a 84% de reussite."
      ],
      "metadata": {
        "id": "--TJPli1m8gA"
      },
      "execution_count": null,
      "outputs": []
    },
    {
      "cell_type": "markdown",
      "source": [
        "Comparaison entre les differents entrainenements\n",
        "\n",
        "MSE:           loss: 0.0703 - accuracy: 0.5186 - val_loss: 0.0682 - val_accuracy: 0.5590\n",
        "\n",
        "Cross Entropy:  loss: 0.5440 - accuracy: 0.8108 - val_loss: 0.5519 - val_accuracy: 0.8048\n",
        "\n",
        "Relu:           loss: 0.4086 - accuracy: 0.8587 - val_loss: 0.4457 - val_accuracy: 0.8423"
      ],
      "metadata": {
        "id": "ynS51mWPpp-J"
      }
    },
    {
      "cell_type": "code",
      "source": [
        "#entrainement avec Relu\n",
        "model = Sequential([ Dense(units=784, activation=\"relu\"),\n",
        "                   Dense(units=10, activation=\"softmax\"),\n",
        "                ])\n",
        "model.compile(loss=\"categorical_crossentropy\", optimizer=SGD(learning_rate=0.01), metrics=[\"accuracy\"])\n",
        "h = model.fit(a_training_images, training_labels, epochs=20, validation_data=(a_test_images, test_labels))"
      ],
      "metadata": {
        "colab": {
          "base_uri": "https://localhost:8080/"
        },
        "id": "SPBuoCtOngNO",
        "outputId": "2a6677a7-8678-4296-ce6d-6a95651df464"
      },
      "execution_count": 42,
      "outputs": [
        {
          "output_type": "stream",
          "name": "stdout",
          "text": [
            "Epoch 1/20\n",
            "1875/1875 [==============================] - 7s 4ms/step - loss: 0.6975 - accuracy: 0.7773 - val_loss: 0.5526 - val_accuracy: 0.8109\n",
            "Epoch 2/20\n",
            "1875/1875 [==============================] - 7s 4ms/step - loss: 0.4940 - accuracy: 0.8327 - val_loss: 0.5311 - val_accuracy: 0.8084\n",
            "Epoch 3/20\n",
            "1875/1875 [==============================] - 7s 4ms/step - loss: 0.4529 - accuracy: 0.8453 - val_loss: 0.4767 - val_accuracy: 0.8331\n",
            "Epoch 4/20\n",
            "1875/1875 [==============================] - 7s 4ms/step - loss: 0.4277 - accuracy: 0.8529 - val_loss: 0.4728 - val_accuracy: 0.8262\n",
            "Epoch 5/20\n",
            "1875/1875 [==============================] - 7s 4ms/step - loss: 0.4106 - accuracy: 0.8588 - val_loss: 0.4293 - val_accuracy: 0.8491\n",
            "Epoch 6/20\n",
            "1875/1875 [==============================] - 7s 4ms/step - loss: 0.3968 - accuracy: 0.8626 - val_loss: 0.4262 - val_accuracy: 0.8463\n",
            "Epoch 7/20\n",
            "1875/1875 [==============================] - 8s 4ms/step - loss: 0.3839 - accuracy: 0.8680 - val_loss: 0.4191 - val_accuracy: 0.8515\n",
            "Epoch 8/20\n",
            "1875/1875 [==============================] - 7s 4ms/step - loss: 0.3744 - accuracy: 0.8699 - val_loss: 0.4105 - val_accuracy: 0.8551\n",
            "Epoch 9/20\n",
            "1875/1875 [==============================] - 7s 4ms/step - loss: 0.3652 - accuracy: 0.8724 - val_loss: 0.3978 - val_accuracy: 0.8601\n",
            "Epoch 10/20\n",
            "1875/1875 [==============================] - 7s 4ms/step - loss: 0.3571 - accuracy: 0.8750 - val_loss: 0.3932 - val_accuracy: 0.8619\n",
            "Epoch 11/20\n",
            "1875/1875 [==============================] - 7s 4ms/step - loss: 0.3502 - accuracy: 0.8769 - val_loss: 0.3900 - val_accuracy: 0.8603\n",
            "Epoch 12/20\n",
            "1875/1875 [==============================] - 7s 4ms/step - loss: 0.3429 - accuracy: 0.8793 - val_loss: 0.3872 - val_accuracy: 0.8611\n",
            "Epoch 13/20\n",
            "1875/1875 [==============================] - 7s 4ms/step - loss: 0.3361 - accuracy: 0.8837 - val_loss: 0.3894 - val_accuracy: 0.8611\n",
            "Epoch 14/20\n",
            "1875/1875 [==============================] - 7s 4ms/step - loss: 0.3310 - accuracy: 0.8845 - val_loss: 0.3787 - val_accuracy: 0.8654\n",
            "Epoch 15/20\n",
            "1875/1875 [==============================] - 7s 4ms/step - loss: 0.3248 - accuracy: 0.8858 - val_loss: 0.3712 - val_accuracy: 0.8667\n",
            "Epoch 16/20\n",
            "1875/1875 [==============================] - 7s 3ms/step - loss: 0.3195 - accuracy: 0.8876 - val_loss: 0.3662 - val_accuracy: 0.8706\n",
            "Epoch 17/20\n",
            "1875/1875 [==============================] - 7s 4ms/step - loss: 0.3150 - accuracy: 0.8890 - val_loss: 0.3620 - val_accuracy: 0.8700\n",
            "Epoch 18/20\n",
            "1875/1875 [==============================] - 7s 4ms/step - loss: 0.3098 - accuracy: 0.8912 - val_loss: 0.3731 - val_accuracy: 0.8659\n",
            "Epoch 19/20\n",
            "1875/1875 [==============================] - 7s 4ms/step - loss: 0.3047 - accuracy: 0.8929 - val_loss: 0.3734 - val_accuracy: 0.8664\n",
            "Epoch 20/20\n",
            "1875/1875 [==============================] - 8s 4ms/step - loss: 0.3003 - accuracy: 0.8943 - val_loss: 0.3589 - val_accuracy: 0.8713\n"
          ]
        }
      ]
    },
    {
      "cell_type": "code",
      "source": [
        "model.summary()"
      ],
      "metadata": {
        "colab": {
          "base_uri": "https://localhost:8080/"
        },
        "id": "NPVg8DtLqbfK",
        "outputId": "bb350b26-afba-4485-cc1f-f545cc186d31"
      },
      "execution_count": 43,
      "outputs": [
        {
          "output_type": "stream",
          "name": "stdout",
          "text": [
            "Model: \"sequential_7\"\n",
            "_________________________________________________________________\n",
            " Layer (type)                Output Shape              Param #   \n",
            "=================================================================\n",
            " dense_14 (Dense)            (None, 784)               615440    \n",
            "                                                                 \n",
            " dense_15 (Dense)            (None, 10)                7850      \n",
            "                                                                 \n",
            "=================================================================\n",
            "Total params: 623290 (2.38 MB)\n",
            "Trainable params: 623290 (2.38 MB)\n",
            "Non-trainable params: 0 (0.00 Byte)\n",
            "_________________________________________________________________\n"
          ]
        }
      ]
    },
    {
      "cell_type": "code",
      "source": [
        "#on est passé à 3 couches\n",
        "model = Sequential([ Dense(units=784, activation=\"relu\"),\n",
        "                    Dense(units=128, activation=\"relu\"),\n",
        "                   Dense(units=10, activation=\"softmax\"),\n",
        "                ])\n",
        "model.compile(loss=\"categorical_crossentropy\", optimizer=SGD(learning_rate=0.01), metrics=[\"accuracy\"])\n",
        "h = model.fit(a_training_images, training_labels, epochs=20, validation_data=(a_test_images, test_labels))"
      ],
      "metadata": {
        "colab": {
          "base_uri": "https://localhost:8080/"
        },
        "id": "q9BTDDH6rQjI",
        "outputId": "b773cf7d-163f-4808-b756-931016f42aa5"
      },
      "execution_count": 44,
      "outputs": [
        {
          "output_type": "stream",
          "name": "stdout",
          "text": [
            "Epoch 1/20\n",
            "1875/1875 [==============================] - 10s 5ms/step - loss: 0.6788 - accuracy: 0.7811 - val_loss: 0.5430 - val_accuracy: 0.8081\n",
            "Epoch 2/20\n",
            "1875/1875 [==============================] - 8s 4ms/step - loss: 0.4686 - accuracy: 0.8372 - val_loss: 0.4682 - val_accuracy: 0.8334\n",
            "Epoch 3/20\n",
            "1875/1875 [==============================] - 9s 5ms/step - loss: 0.4250 - accuracy: 0.8514 - val_loss: 0.4420 - val_accuracy: 0.8426\n",
            "Epoch 4/20\n",
            "1875/1875 [==============================] - 8s 4ms/step - loss: 0.3993 - accuracy: 0.8606 - val_loss: 0.4316 - val_accuracy: 0.8474\n",
            "Epoch 5/20\n",
            "1875/1875 [==============================] - 8s 4ms/step - loss: 0.3787 - accuracy: 0.8674 - val_loss: 0.4137 - val_accuracy: 0.8535\n",
            "Epoch 6/20\n",
            "1875/1875 [==============================] - 8s 4ms/step - loss: 0.3616 - accuracy: 0.8730 - val_loss: 0.3982 - val_accuracy: 0.8575\n",
            "Epoch 7/20\n",
            "1875/1875 [==============================] - 8s 4ms/step - loss: 0.3494 - accuracy: 0.8769 - val_loss: 0.3828 - val_accuracy: 0.8631\n",
            "Epoch 8/20\n",
            "1875/1875 [==============================] - 8s 5ms/step - loss: 0.3378 - accuracy: 0.8808 - val_loss: 0.3806 - val_accuracy: 0.8640\n",
            "Epoch 9/20\n",
            "1875/1875 [==============================] - 8s 4ms/step - loss: 0.3271 - accuracy: 0.8841 - val_loss: 0.3759 - val_accuracy: 0.8662\n",
            "Epoch 10/20\n",
            "1875/1875 [==============================] - 8s 4ms/step - loss: 0.3179 - accuracy: 0.8856 - val_loss: 0.3880 - val_accuracy: 0.8582\n",
            "Epoch 11/20\n",
            "1875/1875 [==============================] - 8s 4ms/step - loss: 0.3093 - accuracy: 0.8892 - val_loss: 0.3762 - val_accuracy: 0.8671\n",
            "Epoch 12/20\n",
            "1875/1875 [==============================] - 9s 5ms/step - loss: 0.3015 - accuracy: 0.8920 - val_loss: 0.3581 - val_accuracy: 0.8717\n",
            "Epoch 13/20\n",
            "1875/1875 [==============================] - 9s 5ms/step - loss: 0.2944 - accuracy: 0.8946 - val_loss: 0.3569 - val_accuracy: 0.8706\n",
            "Epoch 14/20\n",
            "1875/1875 [==============================] - 8s 4ms/step - loss: 0.2859 - accuracy: 0.8965 - val_loss: 0.3525 - val_accuracy: 0.8741\n",
            "Epoch 15/20\n",
            "1875/1875 [==============================] - 9s 5ms/step - loss: 0.2803 - accuracy: 0.8992 - val_loss: 0.3407 - val_accuracy: 0.8786\n",
            "Epoch 16/20\n",
            "1875/1875 [==============================] - 9s 5ms/step - loss: 0.2732 - accuracy: 0.9012 - val_loss: 0.3337 - val_accuracy: 0.8805\n",
            "Epoch 17/20\n",
            "1875/1875 [==============================] - 8s 4ms/step - loss: 0.2669 - accuracy: 0.9042 - val_loss: 0.3327 - val_accuracy: 0.8776\n",
            "Epoch 18/20\n",
            "1875/1875 [==============================] - 8s 4ms/step - loss: 0.2614 - accuracy: 0.9058 - val_loss: 0.3413 - val_accuracy: 0.8763\n",
            "Epoch 19/20\n",
            "1875/1875 [==============================] - 8s 4ms/step - loss: 0.2566 - accuracy: 0.9075 - val_loss: 0.3304 - val_accuracy: 0.8800\n",
            "Epoch 20/20\n",
            "1875/1875 [==============================] - 9s 5ms/step - loss: 0.2509 - accuracy: 0.9096 - val_loss: 0.3292 - val_accuracy: 0.8805\n"
          ]
        }
      ]
    },
    {
      "cell_type": "code",
      "source": [
        "model.summary()"
      ],
      "metadata": {
        "colab": {
          "base_uri": "https://localhost:8080/"
        },
        "id": "IHcBt4QZ4BaU",
        "outputId": "1f20c0b0-6a79-4549-df8d-0d469191a056"
      },
      "execution_count": 45,
      "outputs": [
        {
          "output_type": "stream",
          "name": "stdout",
          "text": [
            "Model: \"sequential_8\"\n",
            "_________________________________________________________________\n",
            " Layer (type)                Output Shape              Param #   \n",
            "=================================================================\n",
            " dense_16 (Dense)            (None, 784)               615440    \n",
            "                                                                 \n",
            " dense_17 (Dense)            (None, 128)               100480    \n",
            "                                                                 \n",
            " dense_18 (Dense)            (None, 10)                1290      \n",
            "                                                                 \n",
            "=================================================================\n",
            "Total params: 717210 (2.74 MB)\n",
            "Trainable params: 717210 (2.74 MB)\n",
            "Non-trainable params: 0 (0.00 Byte)\n",
            "_________________________________________________________________\n"
          ]
        }
      ]
    },
    {
      "cell_type": "code",
      "source": [
        "def plot_loss_curve(history):\n",
        "\n",
        "\n",
        "  plt.plot(list(range(len(history['loss']))), history['loss'], label = \"loss\")\n",
        "  plt.plot(list(range(len(history['val_loss']))), history['val_loss'], label=\"val_loss\")\n",
        "  plt.xlabel('Epochs')\n",
        "  plt.ylabel(\"Loss\")\n",
        "  plt.title(\"Loss Curve\")\n",
        "  plt.legend(loc='upper right')\n",
        "  plt.show()\n",
        "\n",
        "def plot_accuracy_curve(history):\n",
        "\n",
        "\n",
        "  plt.plot(list(range(len(history['accuracy']))), history['accuracy'], label = \"accuracy\")\n",
        "  plt.plot(list(range(len(history['val_accuracy']))), history['val_accuracy'], label=\"val_accuracy\")\n",
        "  plt.xlabel('Epochs')\n",
        "  plt.ylabel(\"accuracy\")\n",
        "  plt.title(\"Accuracy Curve\")\n",
        "  plt.legend(loc='upper right')\n",
        "  plt.show()"
      ],
      "metadata": {
        "id": "a1ECANU33QHd"
      },
      "execution_count": 46,
      "outputs": []
    },
    {
      "cell_type": "code",
      "source": [
        "plot_loss_curve(h.history)\n",
        "plot_accuracy_curve(h.history)"
      ],
      "metadata": {
        "colab": {
          "base_uri": "https://localhost:8080/",
          "height": 927
        },
        "id": "CjpfTj-m5pJV",
        "outputId": "5199d080-9644-4cc2-b5f2-8ff3423b70a4"
      },
      "execution_count": 47,
      "outputs": [
        {
          "output_type": "display_data",
          "data": {
            "text/plain": [
              "<Figure size 640x480 with 1 Axes>"
            ],
            "image/png": "[encoded data removed]"
          },
          "metadata": {}
        },
        {
          "output_type": "display_data",
          "data": {
            "text/plain": [
              "<Figure size 640x480 with 1 Axes>"
            ],
            "image/png": "[encoded data removed]"
          },
          "metadata": {}
        }
      ]
    },
    {
      "cell_type": "code",
      "source": [
        "#On a un ecart qui se creuse entre le val_accuracy et Accuracy de l'entrainement, Quand on a un gros écart e ntre les donnees d'entrainement et les donnees de test.\n",
        "#accuracy: 0.9097 - val_loss: 0.3248 - val_accuracy: 0.8843 Quand les donnees d'entrainement devient superieures on donnees de test, on a un overfitting"
      ],
      "metadata": {
        "id": "kZ4i03J577aV"
      },
      "execution_count": null,
      "outputs": []
    },
    {
      "cell_type": "markdown",
      "source": [
        "overfitting :\n",
        "\n",
        "En pratique, un modèle qui overfit est souvent très facile à détecter. L’overfitting intervient lorsque l’erreur sur les données de test devient croissante. Typiquement, si l’erreur sur les données d’entraînements est beaucoup plus faible que celle sur les données de test, c’est sans doute que votre modèle a trop appris les données\n",
        "\n"
      ],
      "metadata": {
        "id": "D2GzywgV8lLl"
      }
    },
    {
      "cell_type": "markdown",
      "source": [
        "#DropOut"
      ],
      "metadata": {
        "id": "I71aMXFNmkJ_"
      }
    },
    {
      "cell_type": "code",
      "source": [
        "dropout = tf.keras.layers.Dropout(0.5, input_shape=(2,))"
      ],
      "metadata": {
        "id": "17XijCEQjzzV"
      },
      "execution_count": 49,
      "outputs": []
    },
    {
      "cell_type": "code",
      "source": [
        "x = np.arange(1,11).reshape(5, 2).astype(np.float32)"
      ],
      "metadata": {
        "id": "_xO9AbfWnumS"
      },
      "execution_count": 50,
      "outputs": []
    },
    {
      "cell_type": "code",
      "source": [
        "tf.keras.layers.Dropout"
      ],
      "metadata": {
        "id": "H31rtxPGodlV"
      },
      "execution_count": 52,
      "outputs": []
    },
    {
      "cell_type": "code",
      "source": [
        "x"
      ],
      "metadata": {
        "colab": {
          "base_uri": "https://localhost:8080/"
        },
        "id": "eyP9tYhRoDue",
        "outputId": "8e48f444-b555-44f0-afae-9bcb5bafa6f7"
      },
      "execution_count": 51,
      "outputs": [
        {
          "output_type": "execute_result",
          "data": {
            "text/plain": [
              "array([[ 1.,  2.],\n",
              "       [ 3.,  4.],\n",
              "       [ 5.,  6.],\n",
              "       [ 7.,  8.],\n",
              "       [ 9., 10.]], dtype=float32)"
            ]
          },
          "metadata": {},
          "execution_count": 51
        }
      ]
    },
    {
      "cell_type": "code",
      "source": [
        "#combattre l'overfitting avec dropout\n",
        "model = Sequential([ Dense(units=784, activation=\"relu\"),\n",
        "                    tf.keras.layers.Dropout(0.5),\n",
        "                    Dense(units=128, activation=\"relu\"),\n",
        "                     tf.keras.layers.Dropout(0.3),\n",
        "                   Dense(units=10, activation=\"softmax\"),\n",
        "                ])\n",
        "model.compile(loss=\"categorical_crossentropy\", optimizer=SGD(learning_rate=0.01), metrics=[\"accuracy\"])\n",
        "h = model.fit(a_training_images, training_labels, epochs=20, validation_data=(a_test_images, test_labels))"
      ],
      "metadata": {
        "colab": {
          "base_uri": "https://localhost:8080/"
        },
        "id": "TMukPf0KoDzy",
        "outputId": "bc7348ae-27a5-46fd-f967-786adf9a40e7"
      },
      "execution_count": 53,
      "outputs": [
        {
          "output_type": "stream",
          "name": "stdout",
          "text": [
            "Epoch 1/20\n",
            "1875/1875 [==============================] - 10s 5ms/step - loss: 0.8604 - accuracy: 0.7016 - val_loss: 0.5585 - val_accuracy: 0.8029\n",
            "Epoch 2/20\n",
            "1875/1875 [==============================] - 10s 5ms/step - loss: 0.5804 - accuracy: 0.7987 - val_loss: 0.4922 - val_accuracy: 0.8234\n",
            "Epoch 3/20\n",
            "1875/1875 [==============================] - 10s 5ms/step - loss: 0.5138 - accuracy: 0.8203 - val_loss: 0.4556 - val_accuracy: 0.8342\n",
            "Epoch 4/20\n",
            "1875/1875 [==============================] - 9s 5ms/step - loss: 0.4753 - accuracy: 0.8318 - val_loss: 0.4291 - val_accuracy: 0.8434\n",
            "Epoch 5/20\n",
            "1875/1875 [==============================] - 10s 5ms/step - loss: 0.4518 - accuracy: 0.8398 - val_loss: 0.4163 - val_accuracy: 0.8496\n",
            "Epoch 6/20\n",
            "1875/1875 [==============================] - 9s 5ms/step - loss: 0.4349 - accuracy: 0.8459 - val_loss: 0.4024 - val_accuracy: 0.8522\n",
            "Epoch 7/20\n",
            "1875/1875 [==============================] - 9s 5ms/step - loss: 0.4176 - accuracy: 0.8525 - val_loss: 0.3934 - val_accuracy: 0.8579\n",
            "Epoch 8/20\n",
            "1875/1875 [==============================] - 9s 5ms/step - loss: 0.4078 - accuracy: 0.8547 - val_loss: 0.3843 - val_accuracy: 0.8585\n",
            "Epoch 9/20\n",
            "1875/1875 [==============================] - 10s 5ms/step - loss: 0.3921 - accuracy: 0.8592 - val_loss: 0.3828 - val_accuracy: 0.8594\n",
            "Epoch 10/20\n",
            "1875/1875 [==============================] - 10s 5ms/step - loss: 0.3874 - accuracy: 0.8616 - val_loss: 0.3759 - val_accuracy: 0.8633\n",
            "Epoch 11/20\n",
            "1875/1875 [==============================] - 9s 5ms/step - loss: 0.3743 - accuracy: 0.8660 - val_loss: 0.3696 - val_accuracy: 0.8682\n",
            "Epoch 12/20\n",
            "1875/1875 [==============================] - 10s 5ms/step - loss: 0.3707 - accuracy: 0.8675 - val_loss: 0.3615 - val_accuracy: 0.8701\n",
            "Epoch 13/20\n",
            "1875/1875 [==============================] - 10s 5ms/step - loss: 0.3630 - accuracy: 0.8702 - val_loss: 0.3566 - val_accuracy: 0.8717\n",
            "Epoch 14/20\n",
            "1875/1875 [==============================] - 10s 5ms/step - loss: 0.3550 - accuracy: 0.8729 - val_loss: 0.3549 - val_accuracy: 0.8736\n",
            "Epoch 15/20\n",
            "1875/1875 [==============================] - 10s 5ms/step - loss: 0.3503 - accuracy: 0.8757 - val_loss: 0.3576 - val_accuracy: 0.8718\n",
            "Epoch 16/20\n",
            "1875/1875 [==============================] - 10s 5ms/step - loss: 0.3452 - accuracy: 0.8758 - val_loss: 0.3505 - val_accuracy: 0.8739\n",
            "Epoch 17/20\n",
            "1875/1875 [==============================] - 12s 7ms/step - loss: 0.3389 - accuracy: 0.8770 - val_loss: 0.3463 - val_accuracy: 0.8759\n",
            "Epoch 18/20\n",
            "1875/1875 [==============================] - 11s 6ms/step - loss: 0.3348 - accuracy: 0.8795 - val_loss: 0.3428 - val_accuracy: 0.8774\n",
            "Epoch 19/20\n",
            "1875/1875 [==============================] - 10s 5ms/step - loss: 0.3321 - accuracy: 0.8814 - val_loss: 0.3386 - val_accuracy: 0.8792\n",
            "Epoch 20/20\n",
            "1875/1875 [==============================] - 10s 5ms/step - loss: 0.3261 - accuracy: 0.8824 - val_loss: 0.3371 - val_accuracy: 0.8800\n"
          ]
        }
      ]
    },
    {
      "cell_type": "code",
      "source": [
        "model.summary()"
      ],
      "metadata": {
        "colab": {
          "base_uri": "https://localhost:8080/"
        },
        "id": "aCFvELtA0LKu",
        "outputId": "6ca1f27e-28f7-4618-f147-fb3fee8ce5ea"
      },
      "execution_count": 56,
      "outputs": [
        {
          "output_type": "stream",
          "name": "stdout",
          "text": [
            "Model: \"sequential_9\"\n",
            "_________________________________________________________________\n",
            " Layer (type)                Output Shape              Param #   \n",
            "=================================================================\n",
            " dense_19 (Dense)            (None, 784)               615440    \n",
            "                                                                 \n",
            " dropout_2 (Dropout)         (None, 784)               0         \n",
            "                                                                 \n",
            " dense_20 (Dense)            (None, 128)               100480    \n",
            "                                                                 \n",
            " dropout_3 (Dropout)         (None, 128)               0         \n",
            "                                                                 \n",
            " dense_21 (Dense)            (None, 10)                1290      \n",
            "                                                                 \n",
            "=================================================================\n",
            "Total params: 717210 (2.74 MB)\n",
            "Trainable params: 717210 (2.74 MB)\n",
            "Non-trainable params: 0 (0.00 Byte)\n",
            "_________________________________________________________________\n"
          ]
        }
      ]
    },
    {
      "cell_type": "markdown",
      "source": [
        "loss: 0.3261 - accuracy: 0.8824 - val_loss: 0.3371 - val_accuracy: 0.8800.\n",
        "\n",
        "On retient qu'il n'y a pas un grand écart entre accuracy et val_accuracy. On a réduit le overfitting"
      ],
      "metadata": {
        "id": "KWILfMnNsIl3"
      }
    },
    {
      "cell_type": "code",
      "source": [
        "plot_loss_curve(h.history)\n",
        "plot_accuracy_curve(h.history)"
      ],
      "metadata": {
        "colab": {
          "base_uri": "https://localhost:8080/",
          "height": 927
        },
        "id": "de5Lbmafoma9",
        "outputId": "29e43ec7-bfd9-40b3-89a9-ebb9d7d207a2"
      },
      "execution_count": 54,
      "outputs": [
        {
          "output_type": "display_data",
          "data": {
            "text/plain": [
              "<Figure size 640x480 with 1 Axes>"
            ],
            "image/png": "[encoded data removed]"
          },
          "metadata": {}
        },
        {
          "output_type": "display_data",
          "data": {
            "text/plain": [
              "<Figure size 640x480 with 1 Axes>"
            ],
            "image/png": "[encoded data removed]"
          },
          "metadata": {}
        }
      ]
    },
    {
      "cell_type": "markdown",
      "source": [
        "#Collback - MethodeCheckpoint\n",
        "\n",
        "On a vu un point qui a des meilleurs resultats. On voudrai garder le meilleur resultat, pour le faire on peut utiliser la fction callback.\n",
        "\n",
        "Les collback sont des fctions introduit lors de l'entrainement, agissant comme un alerte qui permet de surveiller l'accuracy ett sauvegarde le meilleur accuracy lors dans l'entrainement d'un model."
      ],
      "metadata": {
        "id": "5myKdF-jvb04"
      }
    },
    {
      "cell_type": "code",
      "source": [
        "#il permet de sauvegarder le meilleur moddel encours\n",
        "from tensorflow.keras.callbacks import ModelCheckpoint"
      ],
      "metadata": {
        "id": "txZaANdbzT7h"
      },
      "execution_count": 55,
      "outputs": []
    },
    {
      "cell_type": "code",
      "source": [
        "#si c'etait le loss, on allait sauvegarder le min.\n",
        "#on sauvegarde le meilleur\n",
        "best_model = \"best_model.h9\"\n",
        "\n",
        "model_ckp = ModelCheckpoint(filepath=best_model,\n",
        "                            monitor=\"val_accuracy\",\n",
        "                            mode=\"max\",\n",
        "                            save_best_only=True)"
      ],
      "metadata": {
        "id": "XR4EqCVYziWf"
      },
      "execution_count": 57,
      "outputs": []
    },
    {
      "cell_type": "code",
      "source": [
        "model = Sequential([ Dense(units=784, activation=\"relu\"),\n",
        "                    tf.keras.layers.Dropout(0.5),\n",
        "                    Dense(units=128, activation=\"relu\"),\n",
        "                     tf.keras.layers.Dropout(0.3),\n",
        "                   Dense(units=10, activation=\"softmax\"),\n",
        "                ])\n",
        "model.compile(loss=\"categorical_crossentropy\", optimizer=SGD(learning_rate=0.01), metrics=[\"accuracy\"])\n",
        "h = model.fit(a_training_images, training_labels,\n",
        "              epochs=30,\n",
        "              validation_data=(a_test_images, test_labels),\n",
        "              callbacks =[model_ckp])"
      ],
      "metadata": {
        "colab": {
          "base_uri": "https://localhost:8080/"
        },
        "id": "BKVzgZr30G9Q",
        "outputId": "eabbd36f-4820-40c1-94c8-46e8c7c0ce85"
      },
      "execution_count": 58,
      "outputs": [
        {
          "output_type": "stream",
          "name": "stdout",
          "text": [
            "Epoch 1/30\n",
            "1875/1875 [==============================] - 11s 5ms/step - loss: 0.8517 - accuracy: 0.7072 - val_loss: 0.5504 - val_accuracy: 0.8079\n",
            "Epoch 2/30\n",
            "1875/1875 [==============================] - 10s 5ms/step - loss: 0.5763 - accuracy: 0.7995 - val_loss: 0.4845 - val_accuracy: 0.8297\n",
            "Epoch 3/30\n",
            "1875/1875 [==============================] - 10s 5ms/step - loss: 0.5118 - accuracy: 0.8198 - val_loss: 0.4528 - val_accuracy: 0.8373\n",
            "Epoch 4/30\n",
            "1875/1875 [==============================] - 10s 6ms/step - loss: 0.4736 - accuracy: 0.8328 - val_loss: 0.4317 - val_accuracy: 0.8444\n",
            "Epoch 5/30\n",
            "1875/1875 [==============================] - 10s 6ms/step - loss: 0.4501 - accuracy: 0.8386 - val_loss: 0.4151 - val_accuracy: 0.8489\n",
            "Epoch 6/30\n",
            "1875/1875 [==============================] - 10s 5ms/step - loss: 0.4285 - accuracy: 0.8471 - val_loss: 0.4123 - val_accuracy: 0.8526\n",
            "Epoch 7/30\n",
            "1875/1875 [==============================] - 10s 6ms/step - loss: 0.4149 - accuracy: 0.8519 - val_loss: 0.3942 - val_accuracy: 0.8574\n",
            "Epoch 8/30\n",
            "1875/1875 [==============================] - 12s 6ms/step - loss: 0.4013 - accuracy: 0.8578 - val_loss: 0.3864 - val_accuracy: 0.8612\n",
            "Epoch 9/30\n",
            "1875/1875 [==============================] - 10s 6ms/step - loss: 0.3926 - accuracy: 0.8599 - val_loss: 0.3797 - val_accuracy: 0.8639\n",
            "Epoch 10/30\n",
            "1875/1875 [==============================] - 11s 6ms/step - loss: 0.3834 - accuracy: 0.8640 - val_loss: 0.3778 - val_accuracy: 0.8643\n",
            "Epoch 11/30\n",
            "1875/1875 [==============================] - 11s 6ms/step - loss: 0.3758 - accuracy: 0.8652 - val_loss: 0.3675 - val_accuracy: 0.8677\n",
            "Epoch 12/30\n",
            "1875/1875 [==============================] - 10s 5ms/step - loss: 0.3674 - accuracy: 0.8686 - val_loss: 0.3701 - val_accuracy: 0.8673\n",
            "Epoch 13/30\n",
            "1875/1875 [==============================] - 10s 6ms/step - loss: 0.3622 - accuracy: 0.8703 - val_loss: 0.3591 - val_accuracy: 0.8703\n",
            "Epoch 14/30\n",
            "1875/1875 [==============================] - 10s 6ms/step - loss: 0.3546 - accuracy: 0.8727 - val_loss: 0.3594 - val_accuracy: 0.8704\n",
            "Epoch 15/30\n",
            "1875/1875 [==============================] - 10s 6ms/step - loss: 0.3484 - accuracy: 0.8734 - val_loss: 0.3529 - val_accuracy: 0.8717\n",
            "Epoch 16/30\n",
            "1875/1875 [==============================] - 10s 5ms/step - loss: 0.3449 - accuracy: 0.8761 - val_loss: 0.3486 - val_accuracy: 0.8750\n",
            "Epoch 17/30\n",
            "1875/1875 [==============================] - 10s 5ms/step - loss: 0.3402 - accuracy: 0.8764 - val_loss: 0.3493 - val_accuracy: 0.8736\n",
            "Epoch 18/30\n",
            "1875/1875 [==============================] - 10s 5ms/step - loss: 0.3337 - accuracy: 0.8796 - val_loss: 0.3496 - val_accuracy: 0.8719\n",
            "Epoch 19/30\n",
            "1875/1875 [==============================] - 11s 6ms/step - loss: 0.3298 - accuracy: 0.8812 - val_loss: 0.3443 - val_accuracy: 0.8761\n",
            "Epoch 20/30\n",
            "1875/1875 [==============================] - 11s 6ms/step - loss: 0.3262 - accuracy: 0.8832 - val_loss: 0.3382 - val_accuracy: 0.8790\n",
            "Epoch 21/30\n",
            "1875/1875 [==============================] - 10s 5ms/step - loss: 0.3223 - accuracy: 0.8819 - val_loss: 0.3398 - val_accuracy: 0.8780\n",
            "Epoch 22/30\n",
            "1875/1875 [==============================] - 10s 6ms/step - loss: 0.3187 - accuracy: 0.8840 - val_loss: 0.3416 - val_accuracy: 0.8781\n",
            "Epoch 23/30\n",
            "1875/1875 [==============================] - 10s 5ms/step - loss: 0.3142 - accuracy: 0.8856 - val_loss: 0.3388 - val_accuracy: 0.8758\n",
            "Epoch 24/30\n",
            "1875/1875 [==============================] - 10s 6ms/step - loss: 0.3081 - accuracy: 0.8882 - val_loss: 0.3292 - val_accuracy: 0.8811\n",
            "Epoch 25/30\n",
            "1875/1875 [==============================] - 10s 5ms/step - loss: 0.3087 - accuracy: 0.8878 - val_loss: 0.3341 - val_accuracy: 0.8791\n",
            "Epoch 26/30\n",
            "1875/1875 [==============================] - 10s 5ms/step - loss: 0.3033 - accuracy: 0.8902 - val_loss: 0.3272 - val_accuracy: 0.8844\n",
            "Epoch 27/30\n",
            "1875/1875 [==============================] - 10s 5ms/step - loss: 0.3019 - accuracy: 0.8899 - val_loss: 0.3281 - val_accuracy: 0.8839\n",
            "Epoch 28/30\n",
            "1875/1875 [==============================] - 11s 6ms/step - loss: 0.2962 - accuracy: 0.8925 - val_loss: 0.3305 - val_accuracy: 0.8808\n",
            "Epoch 29/30\n",
            "1875/1875 [==============================] - 10s 5ms/step - loss: 0.2917 - accuracy: 0.8916 - val_loss: 0.3223 - val_accuracy: 0.8821\n",
            "Epoch 30/30\n",
            "1875/1875 [==============================] - 11s 6ms/step - loss: 0.2937 - accuracy: 0.8935 - val_loss: 0.3237 - val_accuracy: 0.8835\n"
          ]
        }
      ]
    },
    {
      "cell_type": "code",
      "source": [
        "model_save = tf.keras.models.load_model('best_model.h9')"
      ],
      "metadata": {
        "id": "FT1BsOv24Vlo"
      },
      "execution_count": 60,
      "outputs": []
    },
    {
      "cell_type": "code",
      "source": [
        "model_save.evaluate(a_test_images, test_labels)"
      ],
      "metadata": {
        "colab": {
          "base_uri": "https://localhost:8080/"
        },
        "id": "dOMGr-71488_",
        "outputId": "693cc24a-389c-4b8b-bf3e-623b0c9a5043"
      },
      "execution_count": 63,
      "outputs": [
        {
          "output_type": "stream",
          "name": "stdout",
          "text": [
            "313/313 [==============================] - 1s 2ms/step - loss: 0.3272 - accuracy: 0.8844\n"
          ]
        },
        {
          "output_type": "execute_result",
          "data": {
            "text/plain": [
              "[0.3272315561771393, 0.8844000101089478]"
            ]
          },
          "metadata": {},
          "execution_count": 63
        }
      ]
    },
    {
      "cell_type": "markdown",
      "source": [
        "#Early stopping\n",
        "\n",
        "Pour arreter l'entrainement plutot, on peut mettre des conditions pour l'arreter.\n",
        "On peut mettre plusieurs epoch et arreter lorsque le meilleur accucracy se repete dans plusieurs Epoch"
      ],
      "metadata": {
        "id": "NnePlZrd5Muv"
      }
    },
    {
      "cell_type": "code",
      "source": [
        "#Callbacks sont des fctions qu'on peut ecrire,inserer lors de l'entrainement\n",
        "stop = tf.keras.callbacks.EarlyStopping(monitor=\"val_accuracy\", patience=2)"
      ],
      "metadata": {
        "id": "aitu8GgV5LXf"
      },
      "execution_count": 64,
      "outputs": []
    },
    {
      "cell_type": "code",
      "source": [
        "model_ckp"
      ],
      "metadata": {
        "colab": {
          "base_uri": "https://localhost:8080/"
        },
        "id": "rr-fdWL6-M6R",
        "outputId": "5d303cec-0d94-4e0f-cdb9-ead38580dac9"
      },
      "execution_count": 65,
      "outputs": [
        {
          "output_type": "execute_result",
          "data": {
            "text/plain": [
              "<keras.src.callbacks.ModelCheckpoint at 0x7d0ca6ee4550>"
            ]
          },
          "metadata": {},
          "execution_count": 65
        }
      ]
    },
    {
      "cell_type": "code",
      "source": [
        "model = Sequential([ Dense(units=784, activation=\"relu\"),\n",
        "                    tf.keras.layers.Dropout(0.5),\n",
        "                    Dense(units=128, activation=\"relu\"),\n",
        "                     tf.keras.layers.Dropout(0.3),\n",
        "                   Dense(units=10, activation=\"softmax\"),\n",
        "                ])\n",
        "model.compile(loss=\"categorical_crossentropy\", optimizer=SGD(learning_rate=0.01), metrics=[\"accuracy\"])\n",
        "h = model.fit(a_training_images, training_labels,\n",
        "              epochs=1000,\n",
        "              validation_data=(a_test_images, test_labels),\n",
        "              callbacks =[model_ckp, stop])"
      ],
      "metadata": {
        "colab": {
          "base_uri": "https://localhost:8080/"
        },
        "id": "FO9Tfbsg-P2C",
        "outputId": "7cf2ab79-bd95-49a8-c03c-75b23f54a849"
      },
      "execution_count": 66,
      "outputs": [
        {
          "output_type": "stream",
          "name": "stdout",
          "text": [
            "Epoch 1/1000\n",
            "1875/1875 [==============================] - 10s 5ms/step - loss: 0.8535 - accuracy: 0.7062 - val_loss: 0.5529 - val_accuracy: 0.8095\n",
            "Epoch 2/1000\n",
            "1875/1875 [==============================] - 9s 5ms/step - loss: 0.5716 - accuracy: 0.8009 - val_loss: 0.4818 - val_accuracy: 0.8297\n",
            "Epoch 3/1000\n",
            "1875/1875 [==============================] - 10s 5ms/step - loss: 0.5067 - accuracy: 0.8223 - val_loss: 0.4493 - val_accuracy: 0.8391\n",
            "Epoch 4/1000\n",
            "1875/1875 [==============================] - 10s 5ms/step - loss: 0.4729 - accuracy: 0.8330 - val_loss: 0.4380 - val_accuracy: 0.8422\n",
            "Epoch 5/1000\n",
            "1875/1875 [==============================] - 11s 6ms/step - loss: 0.4461 - accuracy: 0.8419 - val_loss: 0.4135 - val_accuracy: 0.8531\n",
            "Epoch 6/1000\n",
            "1875/1875 [==============================] - 10s 5ms/step - loss: 0.4316 - accuracy: 0.8487 - val_loss: 0.4031 - val_accuracy: 0.8566\n",
            "Epoch 7/1000\n",
            "1875/1875 [==============================] - 10s 5ms/step - loss: 0.4135 - accuracy: 0.8538 - val_loss: 0.3938 - val_accuracy: 0.8588\n",
            "Epoch 8/1000\n",
            "1875/1875 [==============================] - 10s 5ms/step - loss: 0.4027 - accuracy: 0.8576 - val_loss: 0.3942 - val_accuracy: 0.8582\n",
            "Epoch 9/1000\n",
            "1875/1875 [==============================] - 10s 5ms/step - loss: 0.3922 - accuracy: 0.8594 - val_loss: 0.3817 - val_accuracy: 0.8639\n",
            "Epoch 10/1000\n",
            "1875/1875 [==============================] - 10s 5ms/step - loss: 0.3832 - accuracy: 0.8645 - val_loss: 0.3736 - val_accuracy: 0.8681\n",
            "Epoch 11/1000\n",
            "1875/1875 [==============================] - 10s 5ms/step - loss: 0.3734 - accuracy: 0.8653 - val_loss: 0.3728 - val_accuracy: 0.8669\n",
            "Epoch 12/1000\n",
            "1875/1875 [==============================] - 9s 5ms/step - loss: 0.3672 - accuracy: 0.8691 - val_loss: 0.3668 - val_accuracy: 0.8691\n",
            "Epoch 13/1000\n",
            "1875/1875 [==============================] - 10s 5ms/step - loss: 0.3605 - accuracy: 0.8715 - val_loss: 0.3642 - val_accuracy: 0.8677\n",
            "Epoch 14/1000\n",
            "1875/1875 [==============================] - 9s 5ms/step - loss: 0.3557 - accuracy: 0.8734 - val_loss: 0.3639 - val_accuracy: 0.8694\n",
            "Epoch 15/1000\n",
            "1875/1875 [==============================] - 10s 5ms/step - loss: 0.3497 - accuracy: 0.8756 - val_loss: 0.3545 - val_accuracy: 0.8720\n",
            "Epoch 16/1000\n",
            "1875/1875 [==============================] - 10s 5ms/step - loss: 0.3446 - accuracy: 0.8762 - val_loss: 0.3508 - val_accuracy: 0.8735\n",
            "Epoch 17/1000\n",
            "1875/1875 [==============================] - 9s 5ms/step - loss: 0.3399 - accuracy: 0.8785 - val_loss: 0.3498 - val_accuracy: 0.8742\n",
            "Epoch 18/1000\n",
            "1875/1875 [==============================] - 10s 5ms/step - loss: 0.3338 - accuracy: 0.8792 - val_loss: 0.3426 - val_accuracy: 0.8783\n",
            "Epoch 19/1000\n",
            "1875/1875 [==============================] - 10s 5ms/step - loss: 0.3301 - accuracy: 0.8807 - val_loss: 0.3403 - val_accuracy: 0.8783\n",
            "Epoch 20/1000\n",
            "1875/1875 [==============================] - 10s 5ms/step - loss: 0.3261 - accuracy: 0.8831 - val_loss: 0.3404 - val_accuracy: 0.8770\n"
          ]
        }
      ]
    },
    {
      "cell_type": "markdown",
      "source": [
        "#Faire des prédictions  "
      ],
      "metadata": {
        "id": "77G2gDxS_z0f"
      }
    },
    {
      "cell_type": "code",
      "source": [
        "model_save = tf.keras.models.load_model('best_model.h9')"
      ],
      "metadata": {
        "id": "y220D3_j_yYD"
      },
      "execution_count": 68,
      "outputs": []
    },
    {
      "cell_type": "code",
      "source": [
        "model_save.summary()"
      ],
      "metadata": {
        "colab": {
          "base_uri": "https://localhost:8080/"
        },
        "id": "91lksTzeAIEA",
        "outputId": "4ba84f10-b761-4757-c199-b2cd587f26fd"
      },
      "execution_count": 70,
      "outputs": [
        {
          "output_type": "stream",
          "name": "stdout",
          "text": [
            "Model: \"sequential_10\"\n",
            "_________________________________________________________________\n",
            " Layer (type)                Output Shape              Param #   \n",
            "=================================================================\n",
            " dense_22 (Dense)            (None, 784)               615440    \n",
            "                                                                 \n",
            " dropout_4 (Dropout)         (None, 784)               0         \n",
            "                                                                 \n",
            " dense_23 (Dense)            (None, 128)               100480    \n",
            "                                                                 \n",
            " dropout_5 (Dropout)         (None, 128)               0         \n",
            "                                                                 \n",
            " dense_24 (Dense)            (None, 10)                1290      \n",
            "                                                                 \n",
            "=================================================================\n",
            "Total params: 717210 (2.74 MB)\n",
            "Trainable params: 717210 (2.74 MB)\n",
            "Non-trainable params: 0 (0.00 Byte)\n",
            "_________________________________________________________________\n"
          ]
        }
      ]
    },
    {
      "cell_type": "code",
      "source": [
        "a_test_images[515].shape"
      ],
      "metadata": {
        "colab": {
          "base_uri": "https://localhost:8080/"
        },
        "id": "zzMYT1WkDX9Z",
        "outputId": "b990c6d0-bbc8-407e-c051-2ad1e80da4fd"
      },
      "execution_count": 101,
      "outputs": [
        {
          "output_type": "execute_result",
          "data": {
            "text/plain": [
              "(784,)"
            ]
          },
          "metadata": {},
          "execution_count": 101
        }
      ]
    },
    {
      "cell_type": "code",
      "source": [
        "test_labels[515]"
      ],
      "metadata": {
        "colab": {
          "base_uri": "https://localhost:8080/"
        },
        "id": "bIPzXMsADh0Q",
        "outputId": "01be29bb-33ec-4df0-e9b4-52a28a8d5d43"
      },
      "execution_count": 102,
      "outputs": [
        {
          "output_type": "execute_result",
          "data": {
            "text/plain": [
              "array([0., 0., 0., 0., 0., 0., 0., 0., 1., 0.], dtype=float32)"
            ]
          },
          "metadata": {},
          "execution_count": 102
        }
      ]
    },
    {
      "cell_type": "code",
      "source": [
        "np.argmax(test_labels[515])"
      ],
      "metadata": {
        "colab": {
          "base_uri": "https://localhost:8080/"
        },
        "id": "s2oFa6cnDr3r",
        "outputId": "f0355274-2003-46fd-cd9c-319db528b72e"
      },
      "execution_count": 103,
      "outputs": [
        {
          "output_type": "execute_result",
          "data": {
            "text/plain": [
              "8"
            ]
          },
          "metadata": {},
          "execution_count": 103
        }
      ]
    },
    {
      "cell_type": "code",
      "source": [
        "labels[8]"
      ],
      "metadata": {
        "colab": {
          "base_uri": "https://localhost:8080/",
          "height": 35
        },
        "id": "0fmMjHOODzyf",
        "outputId": "5a0fe82f-9b71-4007-edb5-f1a07b723687"
      },
      "execution_count": 104,
      "outputs": [
        {
          "output_type": "execute_result",
          "data": {
            "text/plain": [
              "'bag'"
            ],
            "application/vnd.google.colaboratory.intrinsic+json": {
              "type": "string"
            }
          },
          "metadata": {},
          "execution_count": 104
        }
      ]
    },
    {
      "cell_type": "code",
      "source": [
        "pred = model_save.predict(a_test_images[515].reshape((1, 784)))"
      ],
      "metadata": {
        "colab": {
          "base_uri": "https://localhost:8080/"
        },
        "id": "mgY1eWorEdlx",
        "outputId": "87f026e7-f072-4894-9e90-6e8933be4e7b"
      },
      "execution_count": 113,
      "outputs": [
        {
          "output_type": "stream",
          "name": "stdout",
          "text": [
            "1/1 [==============================] - 0s 19ms/step\n"
          ]
        }
      ]
    },
    {
      "cell_type": "code",
      "source": [
        "pred"
      ],
      "metadata": {
        "colab": {
          "base_uri": "https://localhost:8080/"
        },
        "id": "0gptxMRtF7qR",
        "outputId": "4f019e2e-2f4e-4224-bc8d-1d631c40c5c5"
      },
      "execution_count": 114,
      "outputs": [
        {
          "output_type": "execute_result",
          "data": {
            "text/plain": [
              "array([[3.6394191e-05, 3.0679206e-07, 9.4841280e-06, 2.1336316e-05,\n",
              "        4.7227612e-05, 3.3399655e-04, 5.8988285e-06, 7.8129295e-07,\n",
              "        9.9954456e-01, 5.3192149e-08]], dtype=float32)"
            ]
          },
          "metadata": {},
          "execution_count": 114
        }
      ]
    },
    {
      "cell_type": "code",
      "source": [
        "np.argmax(pred)"
      ],
      "metadata": {
        "colab": {
          "base_uri": "https://localhost:8080/"
        },
        "id": "BKbZvjuZF9U5",
        "outputId": "b6d9ab6c-1e89-4692-813a-45b0aeb31775"
      },
      "execution_count": 115,
      "outputs": [
        {
          "output_type": "execute_result",
          "data": {
            "text/plain": [
              "8"
            ]
          },
          "metadata": {},
          "execution_count": 115
        }
      ]
    },
    {
      "cell_type": "code",
      "source": [
        "labels[8]"
      ],
      "metadata": {
        "colab": {
          "base_uri": "https://localhost:8080/",
          "height": 35
        },
        "id": "LQBvKNLOGGFY",
        "outputId": "85a4eb6b-a9b7-47b5-f033-a0d26fa3a7d6"
      },
      "execution_count": 116,
      "outputs": [
        {
          "output_type": "execute_result",
          "data": {
            "text/plain": [
              "'bag'"
            ],
            "application/vnd.google.colaboratory.intrinsic+json": {
              "type": "string"
            }
          },
          "metadata": {},
          "execution_count": 116
        }
      ]
    },
    {
      "cell_type": "code",
      "source": [
        "plt.imshow(training_images[515])\n",
        "#plt.title(labels[training_labels[8]])\n",
        "plt.show()"
      ],
      "metadata": {
        "colab": {
          "base_uri": "https://localhost:8080/",
          "height": 430
        },
        "id": "FfkkAkkTFOiR",
        "outputId": "507d2eba-2d99-4cd2-bdb4-48a49b082c9d"
      },
      "execution_count": 119,
      "outputs": [
        {
          "output_type": "display_data",
          "data": {
            "text/plain": [
              "<Figure size 640x480 with 1 Axes>"
            ],
            "image/png": "[encoded data removed]"
          },
          "metadata": {}
        }
      ]
    }
  ]
}
